{
 "cells": [
  {
   "cell_type": "code",
   "execution_count": 1,
   "metadata": {},
   "outputs": [],
   "source": [
    "import numpy as np\n",
    "import pandas as pd\n",
    "import itertools\n",
    "from sklearn.metrics import accuracy_score\n",
    "import datetime\n",
    "from sklearn.model_selection import train_test_split\n",
    "from more_itertools import set_partitions\n",
    "import math\n",
    "import random\n",
    "from sklearn.utils import resample\n",
    "import os\n",
    "\n",
    "from sklearn.preprocessing import MinMaxScaler\n",
    "from sklearn.decomposition import PCA\n",
    "import matplotlib.pyplot as plt\n",
    "from sklearn import datasets\n",
    "from sklearn import preprocessing\n",
    "from sklearn.cluster import KMeans\n",
    "from sklearn.metrics import adjusted_mutual_info_score\n",
    "from scipy.spatial import distance\n"
   ]
  },
  {
   "cell_type": "code",
   "execution_count": 2,
   "metadata": {},
   "outputs": [],
   "source": [
    "file_path = 'iris.data'\n"
   ]
  },
  {
   "cell_type": "code",
   "execution_count": 3,
   "metadata": {},
   "outputs": [],
   "source": [
    "df = pd.read_csv(file_path, sep=',')"
   ]
  },
  {
   "cell_type": "code",
   "execution_count": 5,
   "metadata": {},
   "outputs": [
    {
     "data": {
      "text/html": [
       "<div>\n",
       "<style scoped>\n",
       "    .dataframe tbody tr th:only-of-type {\n",
       "        vertical-align: middle;\n",
       "    }\n",
       "\n",
       "    .dataframe tbody tr th {\n",
       "        vertical-align: top;\n",
       "    }\n",
       "\n",
       "    .dataframe thead th {\n",
       "        text-align: right;\n",
       "    }\n",
       "</style>\n",
       "<table border=\"1\" class=\"dataframe\">\n",
       "  <thead>\n",
       "    <tr style=\"text-align: right;\">\n",
       "      <th></th>\n",
       "      <th>SepalLengthCm</th>\n",
       "      <th>SepalWidthCm</th>\n",
       "      <th>PetalLengthCm</th>\n",
       "      <th>PetalWidthCm</th>\n",
       "      <th>class</th>\n",
       "    </tr>\n",
       "  </thead>\n",
       "  <tbody>\n",
       "    <tr>\n",
       "      <th>0</th>\n",
       "      <td>5.1</td>\n",
       "      <td>3.5</td>\n",
       "      <td>1.4</td>\n",
       "      <td>0.2</td>\n",
       "      <td>Iris-setosa</td>\n",
       "    </tr>\n",
       "    <tr>\n",
       "      <th>1</th>\n",
       "      <td>4.9</td>\n",
       "      <td>3.0</td>\n",
       "      <td>1.4</td>\n",
       "      <td>0.2</td>\n",
       "      <td>Iris-setosa</td>\n",
       "    </tr>\n",
       "    <tr>\n",
       "      <th>2</th>\n",
       "      <td>4.7</td>\n",
       "      <td>3.2</td>\n",
       "      <td>1.3</td>\n",
       "      <td>0.2</td>\n",
       "      <td>Iris-setosa</td>\n",
       "    </tr>\n",
       "    <tr>\n",
       "      <th>3</th>\n",
       "      <td>4.6</td>\n",
       "      <td>3.1</td>\n",
       "      <td>1.5</td>\n",
       "      <td>0.2</td>\n",
       "      <td>Iris-setosa</td>\n",
       "    </tr>\n",
       "    <tr>\n",
       "      <th>4</th>\n",
       "      <td>5.0</td>\n",
       "      <td>3.6</td>\n",
       "      <td>1.4</td>\n",
       "      <td>0.2</td>\n",
       "      <td>Iris-setosa</td>\n",
       "    </tr>\n",
       "    <tr>\n",
       "      <th>...</th>\n",
       "      <td>...</td>\n",
       "      <td>...</td>\n",
       "      <td>...</td>\n",
       "      <td>...</td>\n",
       "      <td>...</td>\n",
       "    </tr>\n",
       "    <tr>\n",
       "      <th>145</th>\n",
       "      <td>6.7</td>\n",
       "      <td>3.0</td>\n",
       "      <td>5.2</td>\n",
       "      <td>2.3</td>\n",
       "      <td>Iris-virginica</td>\n",
       "    </tr>\n",
       "    <tr>\n",
       "      <th>146</th>\n",
       "      <td>6.3</td>\n",
       "      <td>2.5</td>\n",
       "      <td>5.0</td>\n",
       "      <td>1.9</td>\n",
       "      <td>Iris-virginica</td>\n",
       "    </tr>\n",
       "    <tr>\n",
       "      <th>147</th>\n",
       "      <td>6.5</td>\n",
       "      <td>3.0</td>\n",
       "      <td>5.2</td>\n",
       "      <td>2.0</td>\n",
       "      <td>Iris-virginica</td>\n",
       "    </tr>\n",
       "    <tr>\n",
       "      <th>148</th>\n",
       "      <td>6.2</td>\n",
       "      <td>3.4</td>\n",
       "      <td>5.4</td>\n",
       "      <td>2.3</td>\n",
       "      <td>Iris-virginica</td>\n",
       "    </tr>\n",
       "    <tr>\n",
       "      <th>149</th>\n",
       "      <td>5.9</td>\n",
       "      <td>3.0</td>\n",
       "      <td>5.1</td>\n",
       "      <td>1.8</td>\n",
       "      <td>Iris-virginica</td>\n",
       "    </tr>\n",
       "  </tbody>\n",
       "</table>\n",
       "<p>150 rows × 5 columns</p>\n",
       "</div>"
      ],
      "text/plain": [
       "     SepalLengthCm  SepalWidthCm  PetalLengthCm  PetalWidthCm           class\n",
       "0              5.1           3.5            1.4           0.2     Iris-setosa\n",
       "1              4.9           3.0            1.4           0.2     Iris-setosa\n",
       "2              4.7           3.2            1.3           0.2     Iris-setosa\n",
       "3              4.6           3.1            1.5           0.2     Iris-setosa\n",
       "4              5.0           3.6            1.4           0.2     Iris-setosa\n",
       "..             ...           ...            ...           ...             ...\n",
       "145            6.7           3.0            5.2           2.3  Iris-virginica\n",
       "146            6.3           2.5            5.0           1.9  Iris-virginica\n",
       "147            6.5           3.0            5.2           2.0  Iris-virginica\n",
       "148            6.2           3.4            5.4           2.3  Iris-virginica\n",
       "149            5.9           3.0            5.1           1.8  Iris-virginica\n",
       "\n",
       "[150 rows x 5 columns]"
      ]
     },
     "execution_count": 5,
     "metadata": {},
     "output_type": "execute_result"
    }
   ],
   "source": [
    "df"
   ]
  },
  {
   "cell_type": "code",
   "execution_count": 6,
   "metadata": {},
   "outputs": [],
   "source": [
    "headers = list(df.columns)\n",
    "headers.remove('class')"
   ]
  },
  {
   "cell_type": "code",
   "execution_count": 7,
   "metadata": {},
   "outputs": [],
   "source": [
    "X = df.iloc[:,:-1]\n",
    "Y = df.iloc[:, -1]"
   ]
  },
  {
   "cell_type": "code",
   "execution_count": 8,
   "metadata": {},
   "outputs": [
    {
     "data": {
      "text/html": [
       "<div>\n",
       "<style scoped>\n",
       "    .dataframe tbody tr th:only-of-type {\n",
       "        vertical-align: middle;\n",
       "    }\n",
       "\n",
       "    .dataframe tbody tr th {\n",
       "        vertical-align: top;\n",
       "    }\n",
       "\n",
       "    .dataframe thead th {\n",
       "        text-align: right;\n",
       "    }\n",
       "</style>\n",
       "<table border=\"1\" class=\"dataframe\">\n",
       "  <thead>\n",
       "    <tr style=\"text-align: right;\">\n",
       "      <th></th>\n",
       "      <th>SepalLengthCm</th>\n",
       "      <th>SepalWidthCm</th>\n",
       "      <th>PetalLengthCm</th>\n",
       "      <th>PetalWidthCm</th>\n",
       "    </tr>\n",
       "  </thead>\n",
       "  <tbody>\n",
       "    <tr>\n",
       "      <th>0</th>\n",
       "      <td>5.1</td>\n",
       "      <td>3.5</td>\n",
       "      <td>1.4</td>\n",
       "      <td>0.2</td>\n",
       "    </tr>\n",
       "    <tr>\n",
       "      <th>1</th>\n",
       "      <td>4.9</td>\n",
       "      <td>3.0</td>\n",
       "      <td>1.4</td>\n",
       "      <td>0.2</td>\n",
       "    </tr>\n",
       "    <tr>\n",
       "      <th>2</th>\n",
       "      <td>4.7</td>\n",
       "      <td>3.2</td>\n",
       "      <td>1.3</td>\n",
       "      <td>0.2</td>\n",
       "    </tr>\n",
       "    <tr>\n",
       "      <th>3</th>\n",
       "      <td>4.6</td>\n",
       "      <td>3.1</td>\n",
       "      <td>1.5</td>\n",
       "      <td>0.2</td>\n",
       "    </tr>\n",
       "    <tr>\n",
       "      <th>4</th>\n",
       "      <td>5.0</td>\n",
       "      <td>3.6</td>\n",
       "      <td>1.4</td>\n",
       "      <td>0.2</td>\n",
       "    </tr>\n",
       "    <tr>\n",
       "      <th>...</th>\n",
       "      <td>...</td>\n",
       "      <td>...</td>\n",
       "      <td>...</td>\n",
       "      <td>...</td>\n",
       "    </tr>\n",
       "    <tr>\n",
       "      <th>145</th>\n",
       "      <td>6.7</td>\n",
       "      <td>3.0</td>\n",
       "      <td>5.2</td>\n",
       "      <td>2.3</td>\n",
       "    </tr>\n",
       "    <tr>\n",
       "      <th>146</th>\n",
       "      <td>6.3</td>\n",
       "      <td>2.5</td>\n",
       "      <td>5.0</td>\n",
       "      <td>1.9</td>\n",
       "    </tr>\n",
       "    <tr>\n",
       "      <th>147</th>\n",
       "      <td>6.5</td>\n",
       "      <td>3.0</td>\n",
       "      <td>5.2</td>\n",
       "      <td>2.0</td>\n",
       "    </tr>\n",
       "    <tr>\n",
       "      <th>148</th>\n",
       "      <td>6.2</td>\n",
       "      <td>3.4</td>\n",
       "      <td>5.4</td>\n",
       "      <td>2.3</td>\n",
       "    </tr>\n",
       "    <tr>\n",
       "      <th>149</th>\n",
       "      <td>5.9</td>\n",
       "      <td>3.0</td>\n",
       "      <td>5.1</td>\n",
       "      <td>1.8</td>\n",
       "    </tr>\n",
       "  </tbody>\n",
       "</table>\n",
       "<p>150 rows × 4 columns</p>\n",
       "</div>"
      ],
      "text/plain": [
       "     SepalLengthCm  SepalWidthCm  PetalLengthCm  PetalWidthCm\n",
       "0              5.1           3.5            1.4           0.2\n",
       "1              4.9           3.0            1.4           0.2\n",
       "2              4.7           3.2            1.3           0.2\n",
       "3              4.6           3.1            1.5           0.2\n",
       "4              5.0           3.6            1.4           0.2\n",
       "..             ...           ...            ...           ...\n",
       "145            6.7           3.0            5.2           2.3\n",
       "146            6.3           2.5            5.0           1.9\n",
       "147            6.5           3.0            5.2           2.0\n",
       "148            6.2           3.4            5.4           2.3\n",
       "149            5.9           3.0            5.1           1.8\n",
       "\n",
       "[150 rows x 4 columns]"
      ]
     },
     "execution_count": 8,
     "metadata": {},
     "output_type": "execute_result"
    }
   ],
   "source": [
    "X"
   ]
  },
  {
   "cell_type": "code",
   "execution_count": 8,
   "metadata": {},
   "outputs": [
    {
     "data": {
      "text/plain": [
       "0         Iris-setosa\n",
       "1         Iris-setosa\n",
       "2         Iris-setosa\n",
       "3         Iris-setosa\n",
       "4         Iris-setosa\n",
       "            ...      \n",
       "145    Iris-virginica\n",
       "146    Iris-virginica\n",
       "147    Iris-virginica\n",
       "148    Iris-virginica\n",
       "149    Iris-virginica\n",
       "Name: class, Length: 150, dtype: object"
      ]
     },
     "execution_count": 8,
     "metadata": {},
     "output_type": "execute_result"
    }
   ],
   "source": [
    "Y"
   ]
  },
  {
   "cell_type": "code",
   "execution_count": 9,
   "metadata": {},
   "outputs": [],
   "source": [
    "# fit scaler on data\n",
    "norm = MinMaxScaler().fit(X)\n",
    "\n",
    "# transform data\n",
    "X = norm.transform(X)\n"
   ]
  },
  {
   "cell_type": "code",
   "execution_count": 40,
   "metadata": {},
   "outputs": [],
   "source": [
    "def process_pca(X, Y):\n",
    "    pca = PCA(n_components=2)\n",
    "    principalComponents = pca.fit_transform(X)\n",
    "    finalDf = pd.DataFrame(data = principalComponents\n",
    "                 , columns = ['principal component 1', 'principal component 2'])\n",
    "    \n",
    "    fig = plt.figure(figsize = (8,8))\n",
    "    ax = fig.add_subplot(1,1,1) \n",
    "    ax.set_xlabel('Principal Component 1', fontsize = 15)\n",
    "    ax.set_ylabel('Principal Component 2', fontsize = 15)\n",
    "    ax.set_title('2 component PCA', fontsize = 20)\n",
    "    targets = np.unique(Y)\n",
    "    colors = ['r', 'g', 'b', 'y']\n",
    "    for target, color in zip(targets,colors):\n",
    "        indicesToKeep = Y == target\n",
    "        ax.scatter(finalDf.loc[indicesToKeep, 'principal component 1']\n",
    "                   , finalDf.loc[indicesToKeep, 'principal component 2']\n",
    "                   , c = color\n",
    "                   , s = 50)\n",
    "    ax.legend(targets)\n",
    "    ax.grid()"
   ]
  },
  {
   "cell_type": "code",
   "execution_count": 36,
   "metadata": {},
   "outputs": [
    {
     "data": {
      "text/plain": [
       "array([0, 1, 2])"
      ]
     },
     "execution_count": 36,
     "metadata": {},
     "output_type": "execute_result"
    }
   ],
   "source": [
    "np.unique(y_train)"
   ]
  },
  {
   "cell_type": "code",
   "execution_count": 40,
   "metadata": {},
   "outputs": [
    {
     "data": {
      "image/png": "[encoded data removed]",
      "text/plain": [
       "<Figure size 576x576 with 1 Axes>"
      ]
     },
     "metadata": {
      "needs_background": "light"
     },
     "output_type": "display_data"
    }
   ],
   "source": [
    "process_pca(X_test, y_test)"
   ]
  },
  {
   "cell_type": "code",
   "execution_count": 41,
   "metadata": {},
   "outputs": [
    {
     "data": {
      "image/png": "[encoded data removed]",
      "text/plain": [
       "<Figure size 576x576 with 1 Axes>"
      ]
     },
     "metadata": {
      "needs_background": "light"
     },
     "output_type": "display_data"
    }
   ],
   "source": [
    "process_pca(X, labels2)"
   ]
  },
  {
   "cell_type": "code",
   "execution_count": 10,
   "metadata": {},
   "outputs": [
    {
     "ename": "NameError",
     "evalue": "name 'labels' is not defined",
     "output_type": "error",
     "traceback": [
      "\u001b[1;31m---------------------------------------------------------------------------\u001b[0m",
      "\u001b[1;31mNameError\u001b[0m                                 Traceback (most recent call last)",
      "\u001b[1;32m<ipython-input-10-0a1df294b701>\u001b[0m in \u001b[0;36m<module>\u001b[1;34m\u001b[0m\n\u001b[1;32m----> 1\u001b[1;33m \u001b[0mlabels\u001b[0m\u001b[1;33m\u001b[0m\u001b[1;33m\u001b[0m\u001b[0m\n\u001b[0m",
      "\u001b[1;31mNameError\u001b[0m: name 'labels' is not defined"
     ]
    }
   ],
   "source": [
    "labels"
   ]
  },
  {
   "cell_type": "code",
   "execution_count": 12,
   "metadata": {},
   "outputs": [
    {
     "data": {
      "text/plain": [
       "array([0, 0, 0, 0, 0, 0, 0, 0, 0, 0, 0, 0, 0, 0, 0, 0, 0, 0, 0, 0, 0, 0,\n",
       "       0, 0, 0, 0, 0, 0, 0, 0, 0, 0, 0, 0, 0, 0, 0, 0, 0, 0, 0, 0, 0, 0,\n",
       "       0, 0, 0, 0, 0, 0, 1, 1, 1, 1, 1, 1, 1, 1, 1, 1, 1, 1, 1, 1, 1, 1,\n",
       "       1, 1, 1, 1, 1, 1, 1, 1, 1, 1, 1, 1, 1, 1, 1, 1, 1, 1, 1, 1, 1, 1,\n",
       "       1, 1, 1, 1, 1, 1, 1, 1, 1, 1, 1, 1, 2, 2, 2, 2, 2, 2, 2, 2, 2, 2,\n",
       "       2, 2, 2, 2, 2, 2, 2, 2, 2, 2, 2, 2, 2, 2, 2, 2, 2, 2, 2, 2, 2, 2,\n",
       "       2, 2, 2, 2, 2, 2, 2, 2, 2, 2, 2, 2, 2, 2, 2, 2, 2, 2])"
      ]
     },
     "execution_count": 12,
     "metadata": {},
     "output_type": "execute_result"
    }
   ],
   "source": [
    "y"
   ]
  },
  {
   "cell_type": "code",
   "execution_count": 10,
   "metadata": {},
   "outputs": [
    {
     "data": {
      "text/plain": [
       "LabelEncoder()"
      ]
     },
     "execution_count": 10,
     "metadata": {},
     "output_type": "execute_result"
    }
   ],
   "source": [
    "le = preprocessing.LabelEncoder()\n",
    "le.fit(Y.unique())"
   ]
  },
  {
   "cell_type": "code",
   "execution_count": 11,
   "metadata": {},
   "outputs": [],
   "source": [
    "y = le.transform(Y)"
   ]
  },
  {
   "cell_type": "code",
   "execution_count": 12,
   "metadata": {},
   "outputs": [],
   "source": [
    "X_train, X_test, y_train, y_test = train_test_split(X, y, test_size=0.2, random_state=42)"
   ]
  },
  {
   "cell_type": "code",
   "execution_count": null,
   "metadata": {},
   "outputs": [],
   "source": []
  },
  {
   "cell_type": "code",
   "execution_count": 13,
   "metadata": {},
   "outputs": [
    {
     "data": {
      "text/plain": [
       "array([0, 0, 1, 0, 0, 2, 1, 0, 0, 0, 2, 1, 1, 0, 0, 1, 2, 2, 1, 2, 1, 2,\n",
       "       1, 0, 2, 1, 0, 0, 0, 1, 2, 0, 0, 0, 1, 0, 1, 2, 0, 1, 2, 0, 2, 2,\n",
       "       1, 1, 2, 1, 0, 1, 2, 0, 0, 1, 1, 0, 2, 0, 0, 1, 1, 2, 1, 2, 2, 1,\n",
       "       0, 0, 2, 2, 0, 0, 0, 1, 2, 0, 2, 2, 0, 1, 1, 2, 1, 2, 0, 2, 1, 2,\n",
       "       1, 1, 1, 0, 1, 1, 0, 1, 2, 2, 0, 1, 2, 2, 0, 2, 0, 1, 2, 2, 1, 2,\n",
       "       1, 1, 2, 2, 0, 1, 2, 0, 1, 2])"
      ]
     },
     "execution_count": 13,
     "metadata": {},
     "output_type": "execute_result"
    }
   ],
   "source": [
    "y_train"
   ]
  },
  {
   "cell_type": "code",
   "execution_count": 35,
   "metadata": {},
   "outputs": [],
   "source": [
    "km2 = KMeans2(M=3)\n"
   ]
  },
  {
   "cell_type": "code",
   "execution_count": 36,
   "metadata": {},
   "outputs": [
    {
     "name": "stdout",
     "output_type": "stream",
     "text": [
      "0\n",
      "           37.92479299762479\n",
      "0.01\n",
      "           2.5503139316123864\n",
      "0.02\n",
      "           0.2522293701232101\n",
      "0.03\n",
      "           0.26883667304433345\n",
      "0.04\n",
      "           0.26474803895792576\n",
      "0.05\n",
      "           0.2606747875923716\n",
      "0.060000000000000005\n",
      "           0.25661601309171544\n",
      "0.07\n",
      "           0.09864142717717073\n",
      "0.08\n",
      "           0.22994324404788813\n",
      "0.09\n",
      "           0.22905884770077733\n",
      "0.09999999999999999\n",
      "           0.18115436389589945\n",
      "0.10999999999999999\n",
      "           0.8066447443835685\n",
      "0.11999999999999998\n",
      "           3.890447401591313\n",
      "0.12999999999999998\n",
      "           2.6176750302879306\n",
      "0.13999999999999999\n",
      "           0.8605725508979134\n",
      "0.15\n",
      "           0.3668855850364565\n",
      "0.16\n",
      "           0.336343311450797\n",
      "0.17\n",
      "           0.30121649045405974\n",
      "0.18000000000000002\n",
      "           0.26849366127700236\n",
      "0.19000000000000003\n",
      "           0.23859468429453656\n",
      "0.20000000000000004\n",
      "           0.2523320001192957\n",
      "0.21000000000000005\n",
      "           0.2494830695042758\n",
      "0.22000000000000006\n",
      "           0.24666176683572516\n",
      "0.23000000000000007\n",
      "           0.24386761643286547\n",
      "0.24000000000000007\n",
      "           0.24110013662136254\n",
      "0.25000000000000006\n",
      "           0.23835883892279597\n",
      "0.26000000000000006\n",
      "           0.23564322717229302\n",
      "0.2700000000000001\n",
      "           0.23295279655649637\n",
      "0.2800000000000001\n",
      "           0.23028703256307637\n",
      "0.2900000000000001\n",
      "           0.25457204893947605\n",
      "0.3000000000000001\n",
      "           0.22609369493609321\n",
      "0.3100000000000001\n",
      "           0.23419914343194392\n",
      "0.3200000000000001\n",
      "           0.22178967005427097\n",
      "0.3300000000000001\n",
      "           0.21926837498848073\n",
      "0.34000000000000014\n",
      "           0.21677033664776602\n",
      "0.35000000000000014\n",
      "           0.21429504872458338\n",
      "0.36000000000000015\n",
      "           0.2182157737534105\n",
      "0.37000000000000016\n",
      "           0.21034165761568602\n",
      "0.38000000000000017\n",
      "           0.20794579638916488\n",
      "0.3900000000000002\n",
      "           0.2199748058808808\n",
      "0.4000000000000002\n",
      "           0.20379037913825826\n",
      "0.4100000000000002\n",
      "           0.20147092962684354\n",
      "0.4200000000000002\n",
      "           0.19917236950785977\n",
      "0.4300000000000002\n",
      "           0.19689418039893525\n",
      "0.4400000000000002\n",
      "           0.19463582518827138\n",
      "0.45000000000000023\n",
      "           0.20121673131749773\n",
      "0.46000000000000024\n",
      "           0.19070653614782174\n",
      "0.47000000000000025\n",
      "           0.18851807239434493\n",
      "0.48000000000000026\n",
      "           0.1863480736491283\n",
      "0.49000000000000027\n",
      "           0.18419595190212945\n",
      "0.5000000000000002\n",
      "           0.1820610903409694\n",
      "0.5100000000000002\n",
      "           0.1799428397456886\n",
      "0.5200000000000002\n",
      "           0.17784051440761317\n",
      "0.5300000000000002\n",
      "           0.17575338749967528\n",
      "0.5400000000000003\n",
      "           0.17368068581253482\n",
      "0.5500000000000003\n",
      "           0.17162158375607817\n",
      "0.5600000000000003\n",
      "           0.16957519650794417\n",
      "0.5700000000000003\n",
      "           0.1675405721691483\n",
      "0.5800000000000003\n",
      "           0.1579200444073141\n",
      "0.5900000000000003\n",
      "           0.15312183398286017\n",
      "0.6000000000000003\n",
      "           0.017160828200452727\n",
      "0.6100000000000003\n",
      "           0.4244511806035529\n",
      "0.6200000000000003\n",
      "           3.0553957472642317\n",
      "0.6300000000000003\n",
      "           0.11673396385945978\n",
      "0.6200000000000003\n",
      "           3.035787691777088\n",
      "0.6100000000000003\n",
      "           3.1554158990089896\n",
      "0.6100000000000003\n",
      "           3.5577834916839777\n",
      "0.6000000000000003\n",
      "           0.3929744944836635\n",
      "0.6000000000000003\n",
      "           2.358015825473572\n",
      "0.6000000000000003\n",
      "           22.038896760020656\n",
      "0.6000000000000003\n",
      "           24.76847085063891\n",
      "0.5900000000000003\n",
      "           0.1391868539399237\n",
      "0.5900000000000003\n",
      "           0.17154793046679018\n",
      "0.5900000000000003\n",
      "           1.4213975959214213\n",
      "0.5900000000000003\n",
      "           13.007988196285588\n",
      "0.5900000000000003\n",
      "           14.583538855449003\n",
      "0.5800000000000003\n",
      "           0.008147780811754046\n",
      "0.5800000000000003\n",
      "           0.13723383504214048\n",
      "0.5800000000000003\n",
      "           0.16149867485002112\n",
      "0.5800000000000003\n",
      "           1.4206006982801291\n",
      "0.5800000000000003\n",
      "           11.247254027343217\n",
      "0.5800000000000003\n",
      "           12.815415295346357\n",
      "0.5700000000000003\n",
      "           0.0\n",
      "Wall time: 1.51 s\n"
     ]
    }
   ],
   "source": [
    "%time {km2.fit(X)}\n",
    "labels2 = km2.predict(X)"
   ]
  },
  {
   "cell_type": "code",
   "execution_count": 37,
   "metadata": {},
   "outputs": [
    {
     "data": {
      "text/plain": [
       "array([[0.42952675, 0.29475309, 0.56528562, 0.5316358 ],\n",
       "       [0.68055556, 0.44384058, 0.77560796, 0.80344203],\n",
       "       [0.19611111, 0.59083333, 0.07864407, 0.06      ]])"
      ]
     },
     "execution_count": 37,
     "metadata": {},
     "output_type": "execute_result"
    }
   ],
   "source": [
    "km2.centroids"
   ]
  },
  {
   "cell_type": "code",
   "execution_count": 32,
   "metadata": {},
   "outputs": [],
   "source": [
    "km = KMeans(3)\n"
   ]
  },
  {
   "cell_type": "code",
   "execution_count": 33,
   "metadata": {},
   "outputs": [
    {
     "name": "stdout",
     "output_type": "stream",
     "text": [
      "Wall time: 24.9 ms\n"
     ]
    }
   ],
   "source": [
    "%time {km.fit(X)}\n",
    "labels = km.predict(X)"
   ]
  },
  {
   "cell_type": "code",
   "execution_count": 92,
   "metadata": {},
   "outputs": [
    {
     "data": {
      "text/plain": [
       "array([0, 0, 0, 0, 0, 0, 0, 0, 0, 0, 0, 0, 0, 0, 0, 0, 0, 0, 0, 0, 0, 0,\n",
       "       0, 0, 0, 0, 0, 0, 0, 0, 0, 0, 0, 0, 0, 0, 0, 0, 0, 0, 0, 0, 0, 0,\n",
       "       0, 0, 0, 0, 0, 0, 1, 1, 1, 1, 1, 1, 1, 1, 1, 1, 1, 1, 1, 1, 1, 1,\n",
       "       1, 1, 1, 1, 1, 1, 1, 1, 1, 1, 1, 1, 1, 1, 1, 1, 1, 1, 1, 1, 1, 1,\n",
       "       1, 1, 1, 1, 1, 1, 1, 1, 1, 1, 1, 1, 2, 2, 2, 2, 2, 2, 2, 2, 2, 2,\n",
       "       2, 2, 2, 2, 2, 2, 2, 2, 2, 2, 2, 2, 2, 2, 2, 2, 2, 2, 2, 2, 2, 2,\n",
       "       2, 2, 2, 2, 2, 2, 2, 2, 2, 2, 2, 2, 2, 2, 2, 2, 2, 2])"
      ]
     },
     "execution_count": 92,
     "metadata": {},
     "output_type": "execute_result"
    }
   ],
   "source": [
    "np.array(y)"
   ]
  },
  {
   "cell_type": "code",
   "execution_count": 120,
   "metadata": {},
   "outputs": [
    {
     "data": {
      "text/plain": [
       "array([0, 0, 0, 0, 0, 0, 0, 0, 0, 0, 0, 0, 0, 0, 0, 0, 0, 0, 0, 0, 0, 0,\n",
       "       0, 0, 0, 0, 0, 0, 0, 0, 0, 0, 0, 0, 0, 0, 0, 0, 0, 0, 0, 0, 0, 0,\n",
       "       0, 0, 0, 0, 0, 0, 1, 2, 1, 2, 2, 2, 2, 2, 2, 2, 2, 2, 2, 2, 2, 2,\n",
       "       2, 2, 2, 2, 2, 2, 2, 2, 2, 2, 2, 1, 2, 2, 2, 2, 2, 2, 2, 2, 2, 2,\n",
       "       2, 2, 2, 2, 2, 2, 2, 2, 2, 2, 2, 2, 1, 2, 1, 1, 1, 1, 2, 1, 1, 1,\n",
       "       1, 1, 1, 2, 1, 1, 1, 1, 1, 2, 1, 2, 1, 2, 1, 1, 2, 2, 1, 1, 1, 1,\n",
       "       1, 2, 2, 1, 1, 1, 2, 1, 1, 1, 2, 1, 1, 1, 2, 1, 1, 2])"
      ]
     },
     "execution_count": 120,
     "metadata": {},
     "output_type": "execute_result"
    }
   ],
   "source": [
    "np.array(labels2)"
   ]
  },
  {
   "cell_type": "code",
   "execution_count": 83,
   "metadata": {},
   "outputs": [
    {
     "data": {
      "text/plain": [
       "array([1, 1, 1, 1, 1, 1, 1, 1, 1, 1, 1, 1, 1, 1, 1, 1, 1, 1, 1, 1, 1, 1,\n",
       "       1, 1, 1, 1, 1, 1, 1, 1, 1, 1, 1, 1, 1, 1, 1, 1, 1, 1, 1, 1, 1, 1,\n",
       "       1, 1, 1, 1, 1, 1, 2, 0, 2, 0, 0, 0, 0, 0, 0, 0, 0, 0, 0, 0, 0, 0,\n",
       "       0, 0, 0, 0, 0, 0, 0, 0, 0, 0, 0, 2, 0, 0, 0, 0, 0, 0, 0, 0, 0, 0,\n",
       "       0, 0, 0, 0, 0, 0, 0, 0, 0, 0, 0, 0, 2, 0, 2, 2, 2, 2, 0, 2, 2, 2,\n",
       "       2, 2, 2, 0, 2, 2, 2, 2, 2, 0, 2, 0, 2, 0, 2, 2, 0, 0, 2, 2, 2, 2,\n",
       "       2, 0, 0, 2, 2, 2, 0, 2, 2, 2, 0, 2, 2, 2, 0, 2, 2, 0])"
      ]
     },
     "execution_count": 83,
     "metadata": {},
     "output_type": "execute_result"
    }
   ],
   "source": [
    "labels"
   ]
  },
  {
   "cell_type": "code",
   "execution_count": 38,
   "metadata": {},
   "outputs": [
    {
     "name": "stdout",
     "output_type": "stream",
     "text": [
      "0.7269875441315985\n"
     ]
    }
   ],
   "source": [
    "print(adjusted_mutual_info_score(y, labels2))"
   ]
  },
  {
   "cell_type": "code",
   "execution_count": 31,
   "metadata": {},
   "outputs": [],
   "source": [
    "class KMeans2:\n",
    "    def __init__(self, M: int, p_max=0.99, p_step=0.01, beta=0, tol=1e-5, t_max=100, seed=-1):\n",
    "        \"\"\"\n",
    "        :param k: Number of Clusters\n",
    "        :param t_max: Maximum number of iterations if hasn't reached convergence yet.\n",
    "        :param seed: Fixed seed to allow reproducibility.\n",
    "        :param tol: Relative tolerance with regards difference in the cluster centers of two consecutive iterations to\n",
    "        declare convergence.\n",
    "        \"\"\"\n",
    "        if M < 1:\n",
    "            raise ValueError('K must be a positive number')\n",
    "        if p_max < 0 or p_max >= 1:\n",
    "            raise ValueError('p must belong to the set [0,1)')\n",
    "        if beta < 0 or beta > 1:\n",
    "            raise ValueError('beta must belong to the set [0,1]')\n",
    "        \n",
    "        self.M = M\n",
    "        self.p_max = p_max\n",
    "        self.p_step = p_step\n",
    "        self.beta = beta\n",
    "        self.t_max = t_max\n",
    "        self.seed = seed\n",
    "        self.tol = tol\n",
    "        self.metric = 'euclidean'\n",
    "        \n",
    "        self.centroids = None\n",
    "        self.previous_centroids = None\n",
    "        \n",
    "        self.t = 0\n",
    "        self.p_init = 0\n",
    "        self.p = 0\n",
    "        \n",
    "        self.w = np.ones(self.M) * 1/self.M\n",
    "        self.w_p = {self.p : np.ones(self.M) * 1/self.M}\n",
    "        self.delta = None\n",
    "        self.delta_p = {}\n",
    "        self.ew = 0\n",
    "        self.V = np.zeros(self.M)\n",
    "        \n",
    "        \n",
    "    def fit(self, x: np.ndarray):\n",
    "        \"\"\"\n",
    "        Compute cluster centers and predict cluster index for each sample.\n",
    "        :param x: 2D data array of size (rows, features).\n",
    "        \"\"\"\n",
    "        if self.seed < 0:\n",
    "            np.random.seed()\n",
    "        else:\n",
    "            np.random.seed(self.seed)\n",
    "\n",
    "        self.X = x\n",
    "        # Initialize centroids\n",
    "        self._init_centroids()\n",
    "        empty = False # no empty or singleton clusters yet detected\n",
    "        while True:\n",
    "            print(self.p)\n",
    "            self.t += 1\n",
    "            distances = self._distances(x)\n",
    "            self.delta, nearest_ids = self._weighted_distances(x)\n",
    "            if False in [len(i) > 1 for i in nearest_ids]:\n",
    "                empty = True\n",
    "                self.p = self.p - self.p_step\n",
    "                if self.p < self.p_init:\n",
    "                    return None\n",
    "                \n",
    "                self.w = self.w_p[self.p]\n",
    "                self.delta =self.delta_p[self.p]\n",
    "                \n",
    "                \n",
    "            self.previous_centroids = self.centroids.copy()\n",
    "            self._update_centroids()\n",
    "            if self.p < self.p_max and empty == False:\n",
    "                self.delta_p[self.p] = self.delta\n",
    "                self.w_p[self.p] = self.w\n",
    "                self.p += self.p_step\n",
    "            self._update_weights()\n",
    "            \n",
    "            if self._check_convergence():\n",
    "                break\n",
    "\n",
    "    def predict(self, x: np.ndarray):\n",
    "        \"\"\"\n",
    "        Assign labels to a list of observations.\n",
    "        :param x: 2D data array of size (rows, features).\n",
    "        :return: Cluster indexes assigned to each row of X.\n",
    "        \"\"\"\n",
    "        if self.centroids is None:\n",
    "            raise Exception('Fit the model with some data before running a prediction')\n",
    "\n",
    "        distances = self._distances(x)\n",
    "        labels, self.nearest, nearest_ids = self._get_nearest(x, distances)\n",
    "\n",
    "        return labels\n",
    "\n",
    "    def fit_predict(self, x: np.ndarray):\n",
    "        \"\"\"\n",
    "        Fit the model with data and return assigned labels.\n",
    "        :param x: 2D data array of size (rows, features).\n",
    "        :return: Cluster indexes assigned to each row of X.\n",
    "        \"\"\"\n",
    "        self.fit(x)\n",
    "        return self.predict(x)\n",
    "\n",
    "    def _init_centroids(self):\n",
    "        \"\"\"Initialize centroids\"\"\"\n",
    "        init_centroids = np.random.choice(range(self.X.shape[0]), size=self.M, replace=False)\n",
    "        self.centroids = self.X[init_centroids, :]\n",
    "\n",
    "    def _ew_difference(self):\n",
    "        \"\"\"\n",
    "        Calculate the distance between old centroids and new ones (SD).\n",
    "        :return: SD.\n",
    "        \"\"\"\n",
    "        ew_t_1 = self.ew\n",
    "        ew_t = 0\n",
    "        for k in range(self.M):\n",
    "            ew_t += np.power(self.w[k], self.p) * self.V[k]\n",
    "        self.ew = ew_t\n",
    "        print('           {}'.format(np.abs(ew_t - ew_t_1)))\n",
    "        return np.abs(ew_t - ew_t_1)\n",
    "    \n",
    "    def _distances(self, x: np.ndarray):\n",
    "        \"\"\"\n",
    "        Calculate distance from each point of the dataset to each cluster.\n",
    "        :param x: 2D data array of size (rows, features).\n",
    "        :return: Distance matrix of shape (K, number of points)\n",
    "        \"\"\"\n",
    "        distances = np.zeros(shape=(x.shape[0], self.M))\n",
    "        \n",
    "        for row_id, row in enumerate(x):\n",
    "            for centroid_id, centroid in enumerate(self.centroids):\n",
    "                distances[row_id, centroid_id] = self._calculate_distance(centroid, row)\n",
    "\n",
    "        return distances\n",
    "    def _weighted_distances(self, x: np.ndarray):\n",
    "        \"\"\"\n",
    "        Calculate distance from each point of the dataset to each cluster.\n",
    "        :param x: 2D data array of size (rows, features).\n",
    "        :return: Distance matrix of shape (K, number of points)\n",
    "        \"\"\"\n",
    "        distances = np.zeros(shape=(x.shape[0], self.M))\n",
    "        nearest_id = [[] for _ in range(self.M)]\n",
    "        weighted_distances = np.zeros(shape=(x.shape[0], self.M))\n",
    "        delta = np.zeros(shape=(x.shape[0], self.M))\n",
    "        for row_id, row in enumerate(x):\n",
    "            for centroid_id, centroid in enumerate(self.centroids):\n",
    "                d = self._calculate_distance(centroid, row)\n",
    "                distances[row_id, centroid_id] = d\n",
    "                weighted_distances[row_id, centroid_id] = np.power(self.w[centroid_id], self.p)*d\n",
    "            cluster_id = int(np.argmin(weighted_distances[row_id, :]))\n",
    "            nearest_id[cluster_id].append(row_id)\n",
    "            delta[row_id, cluster_id] = 1\n",
    "        return delta, nearest_id\n",
    "\n",
    "    def _calculate_distance(self, x: np.ndarray, y: np.ndarray):\n",
    "        \"\"\"\n",
    "        Calculate distance between 2 elements using the metric depending on the algorithm ('euclidean').\n",
    "        :param x: 1D vector with all x attributes.\n",
    "        :param y: 1D vector with all y attributes.\n",
    "        :return: Distance between both vectors using the specified metric.\n",
    "        \"\"\"\n",
    "        return distance.cdist(np.array([x]), np.array([y]), metric=self.metric)[0][0]\n",
    "\n",
    "    def _get_nearest(self, x: np.ndarray, distances: np.ndarray):\n",
    "        \"\"\"\n",
    "        Compute the distance for each dataset instance to each centroid.\n",
    "        :param x: 2D data array of size (rows, features).\n",
    "        :param distances: 2D vector of distances between centroids and points.\n",
    "        :return: Cluster indexes assigned to each observation (labels for each point).\n",
    "                 List of nearest observations for each cluster.\n",
    "                 List of nearest observations index for each cluster.\n",
    "        \"\"\"\n",
    "        clusters = []\n",
    "        nearest = [[] for _ in range(self.M)]\n",
    "        nearest_id = [[] for _ in range(self.M)]\n",
    "\n",
    "        for row_id, row in enumerate(x):\n",
    "            cluster_id = int(np.argmin(distances[row_id, :]))\n",
    "\n",
    "            clusters.append(cluster_id)\n",
    "            nearest[cluster_id].append(row)\n",
    "            nearest_id[cluster_id].append(row_id)\n",
    "\n",
    "        return clusters, nearest, nearest_id\n",
    "\n",
    "\n",
    "    def _update_centroids(self):\n",
    "        for k in range(self.M):\n",
    "            nearest_ids = self.delta[:, k] == 1\n",
    "            nearests = self.X[nearest_ids]\n",
    "            if nearests.shape[0] > 0:\n",
    "                self.centroids[k, :] = np.mean(np.array(nearests), axis=0)\n",
    "            else:\n",
    "                self.centroids[k, :] = np.zeros(self.M)\n",
    "    def _update_weights(self):\n",
    "        V_t = np.zeros(self.M)\n",
    "        for row_id, row in enumerate(self.X):\n",
    "            for centroid_id, centroid in enumerate(self.centroids):\n",
    "                if self.delta[row_id, centroid_id] == 1:\n",
    "                    V_t[centroid_id] += self._calculate_distance(centroid, row)\n",
    "        self.V = V_t\n",
    "        z = np.sum(np.power(V_t, 1/(1-self.p)))\n",
    "        w_t = np.zeros(self.M)\n",
    "        for k in range(self.M):\n",
    "            w_t[k] = self.beta * self.w[k] + (1-self.beta)*(np.power(V_t[k], 1/(1-self.p))/z)\n",
    "        self.w = w_t\n",
    "    def _check_convergence(self):\n",
    "        \"\"\"Check the termination criterions\"\"\"\n",
    "        if self.t >= self.t_max:\n",
    "            return True\n",
    "        elif self._ew_difference() < self.tol:\n",
    "            return True\n",
    "        else:\n",
    "            return False\n"
   ]
  },
  {
   "cell_type": "code",
   "execution_count": 113,
   "metadata": {},
   "outputs": [],
   "source": [
    "a = np.zeros((2,3))"
   ]
  },
  {
   "cell_type": "code",
   "execution_count": 99,
   "metadata": {},
   "outputs": [
    {
     "data": {
      "text/plain": [
       "150"
      ]
     },
     "execution_count": 99,
     "metadata": {},
     "output_type": "execute_result"
    }
   ],
   "source": [
    "X.shape[0]"
   ]
  },
  {
   "cell_type": "code",
   "execution_count": 115,
   "metadata": {},
   "outputs": [],
   "source": [
    "a[1, 2] = 1"
   ]
  },
  {
   "cell_type": "code",
   "execution_count": 116,
   "metadata": {},
   "outputs": [
    {
     "data": {
      "text/plain": [
       "array([[0., 0., 0.],\n",
       "       [0., 0., 1.]])"
      ]
     },
     "execution_count": 116,
     "metadata": {},
     "output_type": "execute_result"
    }
   ],
   "source": [
    "a"
   ]
  },
  {
   "cell_type": "code",
   "execution_count": 74,
   "metadata": {},
   "outputs": [],
   "source": [
    "a = [1,5,6]"
   ]
  },
  {
   "cell_type": "code",
   "execution_count": 76,
   "metadata": {},
   "outputs": [
    {
     "data": {
      "text/plain": [
       "62"
      ]
     },
     "execution_count": 76,
     "metadata": {},
     "output_type": "execute_result"
    }
   ],
   "source": [
    "np.sum(np.power(a, 2))"
   ]
  },
  {
   "cell_type": "code",
   "execution_count": 22,
   "metadata": {},
   "outputs": [
    {
     "data": {
      "text/plain": [
       "array([0.33333333, 0.33333333, 0.33333333])"
      ]
     },
     "execution_count": 22,
     "metadata": {},
     "output_type": "execute_result"
    }
   ],
   "source": [
    "np.ones(3) * 1/3"
   ]
  },
  {
   "cell_type": "code",
   "execution_count": 26,
   "metadata": {},
   "outputs": [
    {
     "data": {
      "text/plain": [
       "2.0"
      ]
     },
     "execution_count": 26,
     "metadata": {},
     "output_type": "execute_result"
    }
   ],
   "source": [
    "np.power(4, 1/2)"
   ]
  },
  {
   "cell_type": "code",
   "execution_count": 37,
   "metadata": {},
   "outputs": [],
   "source": [
    "a = [[4,5], [5,6], [7,8], [6,7]]"
   ]
  },
  {
   "cell_type": "code",
   "execution_count": 29,
   "metadata": {},
   "outputs": [
    {
     "data": {
      "text/plain": [
       "True"
      ]
     },
     "execution_count": 29,
     "metadata": {},
     "output_type": "execute_result"
    }
   ],
   "source": [
    "any(a)"
   ]
  },
  {
   "cell_type": "code",
   "execution_count": 38,
   "metadata": {},
   "outputs": [],
   "source": [
    "b = [len(x) > 1 for x in a]"
   ]
  },
  {
   "cell_type": "code",
   "execution_count": 39,
   "metadata": {},
   "outputs": [],
   "source": [
    "if False in b:\n",
    "    print('kkk')"
   ]
  },
  {
   "cell_type": "code",
   "execution_count": 40,
   "metadata": {},
   "outputs": [],
   "source": [
    "empty = False in b"
   ]
  },
  {
   "cell_type": "code",
   "execution_count": 78,
   "metadata": {},
   "outputs": [
    {
     "data": {
      "text/plain": [
       "5"
      ]
     },
     "execution_count": 78,
     "metadata": {},
     "output_type": "execute_result"
    }
   ],
   "source": [
    "np.abs(-5)"
   ]
  },
  {
   "cell_type": "code",
   "execution_count": 42,
   "metadata": {},
   "outputs": [
    {
     "data": {
      "text/plain": [
       "2.0"
      ]
     },
     "execution_count": 42,
     "metadata": {},
     "output_type": "execute_result"
    }
   ],
   "source": [
    "np.mean([1,2,3])"
   ]
  },
  {
   "cell_type": "code",
   "execution_count": 46,
   "metadata": {},
   "outputs": [],
   "source": [
    "s = {'k':3}"
   ]
  },
  {
   "cell_type": "code",
   "execution_count": 43,
   "metadata": {},
   "outputs": [
    {
     "ename": "NameError",
     "evalue": "name 's' is not defined",
     "output_type": "error",
     "traceback": [
      "\u001b[1;31m---------------------------------------------------------------------------\u001b[0m",
      "\u001b[1;31mNameError\u001b[0m                                 Traceback (most recent call last)",
      "\u001b[1;32m<ipython-input-43-813a19e6350b>\u001b[0m in \u001b[0;36m<module>\u001b[1;34m\u001b[0m\n\u001b[1;32m----> 1\u001b[1;33m \u001b[0ms\u001b[0m\u001b[1;33m[\u001b[0m\u001b[1;34m'k'\u001b[0m\u001b[1;33m]\u001b[0m \u001b[1;33m=\u001b[0m \u001b[1;36m3\u001b[0m\u001b[1;33m\u001b[0m\u001b[1;33m\u001b[0m\u001b[0m\n\u001b[0m",
      "\u001b[1;31mNameError\u001b[0m: name 's' is not defined"
     ]
    }
   ],
   "source": [
    "s['k'] = 3"
   ]
  },
  {
   "cell_type": "code",
   "execution_count": 77,
   "metadata": {},
   "outputs": [
    {
     "data": {
      "text/plain": [
       "9"
      ]
     },
     "execution_count": 77,
     "metadata": {},
     "output_type": "execute_result"
    }
   ],
   "source": [
    "np.power(3, 2)"
   ]
  },
  {
   "cell_type": "code",
   "execution_count": 67,
   "metadata": {},
   "outputs": [],
   "source": [
    "mm = np.array([1,1,1,1,5,3,3,2,2,5,2,5,2,5,5,7,2])"
   ]
  },
  {
   "cell_type": "code",
   "execution_count": 68,
   "metadata": {},
   "outputs": [],
   "source": [
    "indi = mm == 8"
   ]
  },
  {
   "cell_type": "code",
   "execution_count": 69,
   "metadata": {},
   "outputs": [
    {
     "data": {
      "text/plain": [
       "array([False, False, False, False, False, False, False, False, False,\n",
       "       False, False, False, False, False, False, False, False])"
      ]
     },
     "execution_count": 69,
     "metadata": {},
     "output_type": "execute_result"
    }
   ],
   "source": [
    "indi"
   ]
  },
  {
   "cell_type": "code",
   "execution_count": 70,
   "metadata": {},
   "outputs": [],
   "source": [
    "dd = X[0:17]"
   ]
  },
  {
   "cell_type": "code",
   "execution_count": 71,
   "metadata": {},
   "outputs": [
    {
     "data": {
      "text/plain": [
       "17"
      ]
     },
     "execution_count": 71,
     "metadata": {},
     "output_type": "execute_result"
    }
   ],
   "source": [
    "dd.shape[0]"
   ]
  },
  {
   "cell_type": "code",
   "execution_count": 73,
   "metadata": {},
   "outputs": [
    {
     "data": {
      "text/plain": [
       "0"
      ]
     },
     "execution_count": 73,
     "metadata": {},
     "output_type": "execute_result"
    }
   ],
   "source": [
    "dd[indi].shape[0]"
   ]
  },
  {
   "cell_type": "code",
   "execution_count": 59,
   "metadata": {},
   "outputs": [
    {
     "data": {
      "text/plain": [
       "array([[0.22222222, 0.625     , 0.06779661, 0.04166667],\n",
       "       [0.16666667, 0.41666667, 0.06779661, 0.04166667],\n",
       "       [0.11111111, 0.5       , 0.05084746, 0.04166667],\n",
       "       [0.08333333, 0.45833333, 0.08474576, 0.04166667],\n",
       "       [0.19444444, 0.66666667, 0.06779661, 0.04166667],\n",
       "       [0.30555556, 0.79166667, 0.11864407, 0.125     ],\n",
       "       [0.08333333, 0.58333333, 0.06779661, 0.08333333],\n",
       "       [0.19444444, 0.58333333, 0.08474576, 0.04166667],\n",
       "       [0.02777778, 0.375     , 0.06779661, 0.04166667],\n",
       "       [0.16666667, 0.45833333, 0.08474576, 0.        ],\n",
       "       [0.30555556, 0.70833333, 0.08474576, 0.04166667],\n",
       "       [0.13888889, 0.58333333, 0.10169492, 0.04166667],\n",
       "       [0.13888889, 0.41666667, 0.06779661, 0.        ],\n",
       "       [0.        , 0.41666667, 0.01694915, 0.        ],\n",
       "       [0.41666667, 0.83333333, 0.03389831, 0.04166667],\n",
       "       [0.38888889, 1.        , 0.08474576, 0.125     ],\n",
       "       [0.30555556, 0.79166667, 0.05084746, 0.125     ]])"
      ]
     },
     "execution_count": 59,
     "metadata": {},
     "output_type": "execute_result"
    }
   ],
   "source": [
    "dd"
   ]
  },
  {
   "cell_type": "code",
   "execution_count": 60,
   "metadata": {},
   "outputs": [
    {
     "data": {
      "text/plain": [
       "array([0.625     , 0.41666667, 0.5       , 0.45833333, 0.66666667,\n",
       "       0.79166667, 0.58333333, 0.58333333, 0.375     , 0.45833333,\n",
       "       0.70833333, 0.58333333, 0.41666667, 0.41666667, 0.83333333,\n",
       "       1.        , 0.79166667, 0.625     , 0.75      , 0.75      ,\n",
       "       0.58333333, 0.70833333, 0.66666667, 0.54166667, 0.58333333,\n",
       "       0.41666667, 0.58333333, 0.625     , 0.58333333, 0.5       ,\n",
       "       0.45833333, 0.58333333, 0.875     , 0.91666667, 0.45833333,\n",
       "       0.5       , 0.625     , 0.45833333, 0.41666667, 0.58333333,\n",
       "       0.625     , 0.125     , 0.5       , 0.625     , 0.75      ,\n",
       "       0.41666667, 0.75      , 0.5       , 0.70833333, 0.54166667,\n",
       "       0.5       , 0.5       , 0.45833333, 0.125     , 0.33333333,\n",
       "       0.33333333, 0.54166667, 0.16666667, 0.375     , 0.29166667,\n",
       "       0.        , 0.41666667, 0.08333333, 0.375     , 0.375     ,\n",
       "       0.45833333, 0.41666667, 0.29166667, 0.08333333, 0.20833333,\n",
       "       0.5       , 0.33333333, 0.20833333, 0.33333333, 0.375     ,\n",
       "       0.41666667, 0.33333333, 0.41666667, 0.375     , 0.25      ,\n",
       "       0.16666667, 0.16666667, 0.29166667, 0.29166667, 0.41666667,\n",
       "       0.58333333, 0.45833333, 0.125     , 0.41666667, 0.20833333,\n",
       "       0.25      , 0.41666667, 0.25      , 0.125     , 0.29166667,\n",
       "       0.41666667, 0.375     , 0.375     , 0.20833333, 0.33333333,\n",
       "       0.54166667, 0.29166667, 0.41666667, 0.375     , 0.41666667,\n",
       "       0.41666667, 0.20833333, 0.375     , 0.20833333, 0.66666667,\n",
       "       0.5       , 0.29166667, 0.41666667, 0.20833333, 0.33333333,\n",
       "       0.5       , 0.41666667, 0.75      , 0.25      , 0.08333333,\n",
       "       0.5       , 0.33333333, 0.33333333, 0.29166667, 0.54166667,\n",
       "       0.5       , 0.33333333, 0.41666667, 0.33333333, 0.41666667,\n",
       "       0.33333333, 0.75      , 0.33333333, 0.33333333, 0.25      ,\n",
       "       0.41666667, 0.58333333, 0.45833333, 0.41666667, 0.45833333,\n",
       "       0.45833333, 0.45833333, 0.29166667, 0.5       , 0.54166667,\n",
       "       0.41666667, 0.20833333, 0.41666667, 0.58333333, 0.41666667])"
      ]
     },
     "execution_count": 60,
     "metadata": {},
     "output_type": "execute_result"
    }
   ],
   "source": [
    "X[:, 1]"
   ]
  },
  {
   "cell_type": "code",
   "execution_count": null,
   "metadata": {},
   "outputs": [],
   "source": []
  }
 ],
 "metadata": {
  "kernelspec": {
   "display_name": "Python 3",
   "language": "python",
   "name": "python3"
  },
  "language_info": {
   "codemirror_mode": {
    "name": "ipython",
    "version": 3
   },
   "file_extension": ".py",
   "mimetype": "text/x-python",
   "name": "python",
   "nbconvert_exporter": "python",
   "pygments_lexer": "ipython3",
   "version": "3.6.8"
  }
 },
 "nbformat": 4,
 "nbformat_minor": 4
}
