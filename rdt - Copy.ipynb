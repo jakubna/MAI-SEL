{
 "cells": [
  {
   "cell_type": "code",
   "execution_count": 53,
   "metadata": {},
   "outputs": [],
   "source": [
    "import numpy as np\n",
    "import pandas as pd\n",
    "import itertools\n",
    "from sklearn.metrics import accuracy_score\n",
    "import datetime\n",
    "from sklearn.model_selection import train_test_split\n",
    "from more_itertools import set_partitions\n"
   ]
  },
  {
   "cell_type": "code",
   "execution_count": 74,
   "metadata": {},
   "outputs": [],
   "source": [
    "#file_path = 'Iris.csv'\n",
    "file_path = 'eye-color.data'"
   ]
  },
  {
   "cell_type": "code",
   "execution_count": 75,
   "metadata": {},
   "outputs": [],
   "source": [
    "df = pd.read_csv(file_path, sep=',')\n",
    "#df.drop(['Id'], axis = 1, inplace = True)\n",
    "X_set = df.iloc[:,:-1]\n",
    "y_set = df.iloc[:,-1]"
   ]
  },
  {
   "cell_type": "code",
   "execution_count": 76,
   "metadata": {},
   "outputs": [],
   "source": [
    "dataset= df\n",
    "header = list(dataset)\n",
    "dataset = dataset.values"
   ]
  },
  {
   "cell_type": "code",
   "execution_count": 77,
   "metadata": {},
   "outputs": [
    {
     "name": "stdout",
     "output_type": "stream",
     "text": [
      "Number of training instances: 8\n",
      "Number of test instances: 8\n"
     ]
    }
   ],
   "source": [
    "num_rows, num_cols = np.shape(dataset)\n",
    "num_test_rows = num_rows\n",
    "num_training_rows = num_rows\n",
    "\n",
    "num_cols = num_cols -1\n",
    "class_index = num_cols\n",
    "feature_indices = list(range(class_index)) + list(range(class_index + 1, num_cols))\n",
    "\n",
    "training = dataset[:num_test_rows]\n",
    "test = dataset[num_test_rows:]\n",
    "print('Number of training instances: ' + str(num_training_rows))\n",
    "print('Number of test instances: ' + str(num_test_rows))"
   ]
  },
  {
   "cell_type": "code",
   "execution_count": 81,
   "metadata": {},
   "outputs": [],
   "source": [
    "def build_split(data,column_to_split,split_values):\n",
    "    '''build 2 groups of data by splitting data on the column_to_split \n",
    "       at the split_value'''\n",
    "\n",
    "    left_split = data.loc[data[header[column_to_split]].isin(split_values[0])]\n",
    "    right_split = data.loc[data[header[column_to_split]].isin(split_values[1])]\n",
    "    \n",
    "    return left_split,right_split\n",
    "\n",
    "def build_split_numeric(data,column_to_split,split_value):\n",
    "    '''build 2 groups of data by splitting data on the column_to_split \n",
    "       at the split_value'''\n",
    "    left_split = data[data[column_to_split]<split_value]\n",
    "    right_split = data[data[column_to_split]>=split_value]\n",
    "    \n",
    "    return left_split,right_split\n",
    "\n",
    "def multi_gini_index(group1,group2):\n",
    "    '''Calculate Gini Impurity, func expects to be passed \n",
    "       the 2 groups of data that are the result of a split'''\n",
    "    class_proportions_group1 = group1['class'].value_counts(normalize=True)    \n",
    "    class_proportions_group2 = group2['class'].value_counts(normalize=True)    \n",
    "\n",
    "    instance_proportion_group1 = len(group1)/(len(group1)+len(group2))\n",
    "    instance_proportion_group2 = len(group2)/(len(group1)+len(group2))\n",
    "\n",
    "    gini1 = (1 - class_proportions_group1.pow(2).sum())*(instance_proportion_group1)\n",
    "    gini2 = (1 - class_proportions_group2.pow(2).sum())*(instance_proportion_group2)\n",
    "    gini = gini1+gini2\n",
    "\n",
    "    return gini\n",
    "\n",
    "def single_gini_index(group):\n",
    "    '''Calculate Gini Impurity of a single group'''\n",
    "    class_proportions = group['class'].value_counts(normalize=True)    \n",
    "\n",
    "    gini = (1 - class_proportions.pow(2).sum())\n",
    "  \n",
    "    return gini\n",
    "\n",
    "def find_best_split_point(passed_data, feature_subset):\n",
    "    '''find best split point iterating over range of values returned from the \n",
    "    get_range_to_split_on function and return a dictionary which functions as a node '''\n",
    "\n",
    "    best_split_gini = 10\n",
    "    attribute_index = None\n",
    "    best_split_value = None\n",
    "    best_split_groups  = None\n",
    "    best_split_column = None\n",
    "    best_split_type = None\n",
    "    types = list(passed_data.dtypes)\n",
    "    for attribute_index in feature_subset:\n",
    "        if types[attribute_index] == 'O':\n",
    "            attribute_values = list(set([x[attribute_index] for x in passed_data.values]))\n",
    "            if len(attribute_values) == 1:\n",
    "                gini_XA = single_gini_index(passed_data)\n",
    "                if gini_XA < best_split_gini:\n",
    "                    best_split_gini = gini_XA\n",
    "                    best_split_column  = attribute_index\n",
    "                    best_split_value = attribute_values\n",
    "                    best_split_groups = passed_data, pd.DataFrame(columns = passed_data.columns)\n",
    "                    best_split_type = 0\n",
    "            else:    \n",
    "                partitions = list(set_partitions(attribute_values, 2))\n",
    "                for part in partitions:\n",
    "                    if len(part[1]) < len(part[0]):\n",
    "                        part = [part[1], part[0]]    \n",
    "                    left_split, right_split = build_split(passed_data, attribute_index, part)\n",
    "                    gini_XA =  multi_gini_index(left_split, right_split)\n",
    "                    if gini_XA < best_split_gini:\n",
    "                        best_split_gini = gini_XA\n",
    "                        best_split_column  = attribute_index\n",
    "                        best_split_value = part\n",
    "                        best_split_groups = left_split, right_split\n",
    "                        best_split_type = 0\n",
    "        else:\n",
    "            col_name = passed_data.columns[attribute_index]\n",
    "            split_point = float(passed_data[col_name].median())\n",
    "            left_split, right_split = build_split_numeric(passed_data,col_name,split_point)\n",
    "            gini_XA = multi_gini_index(left_split, right_split)\n",
    "\n",
    "            if gini_XA < best_split_gini:\n",
    "                best_split_gini = gini_XA\n",
    "                best_split_column = attribute_index\n",
    "                best_split_value = split_point\n",
    "                best_split_groups = left_split, right_split\n",
    "                best_split_type = 1\n",
    "    return {'column_name': best_split_column,'type':best_split_type,'dsplit_value':best_split_value,\n",
    "                 'gini':best_split_gini, 'groups': best_split_groups}\n",
    "\n",
    "def recursive_splitter(node,random_features):\n",
    "    '''this function recursively splits the data starting with the root node which its passed\n",
    "    untill the groups are homogenous or further splits result in empty nodes'''\n",
    "    left_group,right_group = node['groups']\n",
    "    #delete the groups entry in original node\n",
    "    del node['groups']\n",
    "    #check if the groups of the node are empty\n",
    "    if left_group.empty or right_group.empty:\n",
    "        #combine as we will use original to predict\n",
    "        combined = pd.concat([left_group,right_group])\n",
    "        predicted_class = combined['class'].value_counts().index[0]\n",
    "        node['left']=node['right']=predicted_class\n",
    "        return [predicted_class]\n",
    "    #check if the groups of the node are homogenous otherwise call recursive_spltter again\n",
    "    if single_gini_index(left_group) == 0:\n",
    "        predicted_class = left_group['class'].value_counts().index[0]\n",
    "        node['left'] = predicted_class\n",
    "    else:\n",
    "        node['left'] = find_best_split_point(left_group,random_features)\n",
    "        curr_node = recursive_splitter(node['left'],random_features)\n",
    "        if type(curr_node) == list:\n",
    "            node['left'] = curr_node[0]\n",
    "\n",
    "    if single_gini_index(right_group) == 0:\n",
    "        predicted_class = right_group['class'].value_counts().index[0]\n",
    "        node['right'] = predicted_class\n",
    "    else:\n",
    "        node['right'] = find_best_split_point(right_group,random_features)\n",
    "        curr_node = recursive_splitter(node['right'],random_features)\n",
    "        if type(curr_node) == list:\n",
    "            node['right'] = curr_node[0]        \n",
    "    return node\n",
    "\n",
    "\n",
    "def make_prediction_tree(data_row,root_node):\n",
    "    '''recursively traverse the tree from root to leaf turning left if feature value\n",
    "    to test is less than dsplit_value or right otherwise until we reach a leaf node'''\n",
    "    \n",
    "    if  root_node['type'] == 0:\n",
    "        #check if feature of data_row is less than dsplit_value else move to right branch\n",
    "        if data_row[root_node['column_name']] in root_node['dsplit_value'][0]:\n",
    "            #check if at a branch or a leaf if branch recursively call predict else return leaf prediction\n",
    "            if type(root_node['left']) is dict:\n",
    "                return make_prediction_tree(data_row,root_node['left'])\n",
    "            else:\n",
    "                return root_node['left']\n",
    "        else:\n",
    "            if type(root_node['right']) is dict:\n",
    "                return make_prediction_tree(data_row,root_node['right'])\n",
    "            else:\n",
    "                return root_node['right']\n",
    "    else:\n",
    "        if data_row[root_node['column_name']] < root_node['dsplit_value']:\n",
    "            #check if at a branch or a leaf if branch recursively call predict else return leaf prediction\n",
    "            if type(root_node['left']) is dict:\n",
    "                return make_prediction_tree(data_row,root_node['left'])\n",
    "            else:\n",
    "                return root_node['left']\n",
    "        else:\n",
    "            if type(root_node['right']) is dict:\n",
    "                return make_prediction_tree(data_row,root_node['right'])\n",
    "            else:\n",
    "                return root_node['right']  "
   ]
  },
  {
   "cell_type": "code",
   "execution_count": null,
   "metadata": {},
   "outputs": [],
   "source": []
  },
  {
   "cell_type": "code",
   "execution_count": 88,
   "metadata": {},
   "outputs": [],
   "source": [
    "aa = ['Green', 'Brown', 'Tall']"
   ]
  },
  {
   "cell_type": "code",
   "execution_count": 89,
   "metadata": {},
   "outputs": [],
   "source": [
    "aa.remove('Brown')"
   ]
  },
  {
   "cell_type": "code",
   "execution_count": 90,
   "metadata": {},
   "outputs": [
    {
     "data": {
      "text/plain": [
       "['Green', 'Tall']"
      ]
     },
     "execution_count": 90,
     "metadata": {},
     "output_type": "execute_result"
    }
   ],
   "source": [
    "aa"
   ]
  },
  {
   "cell_type": "code",
   "execution_count": null,
   "metadata": {},
   "outputs": [],
   "source": []
  },
  {
   "cell_type": "code",
   "execution_count": null,
   "metadata": {},
   "outputs": [],
   "source": []
  },
  {
   "cell_type": "code",
   "execution_count": null,
   "metadata": {},
   "outputs": [],
   "source": []
  },
  {
   "cell_type": "code",
   "execution_count": null,
   "metadata": {},
   "outputs": [],
   "source": []
  },
  {
   "cell_type": "code",
   "execution_count": 73,
   "metadata": {},
   "outputs": [
    {
     "data": {
      "text/plain": [
       "'Iris-virginica'"
      ]
     },
     "execution_count": 73,
     "metadata": {},
     "output_type": "execute_result"
    }
   ],
   "source": [
    "make_prediction_tree([5.9, 3.0, 5.1, 1.8], root_node)"
   ]
  },
  {
   "cell_type": "code",
   "execution_count": 82,
   "metadata": {},
   "outputs": [],
   "source": [
    "dd = df.copy()"
   ]
  },
  {
   "cell_type": "code",
   "execution_count": 83,
   "metadata": {},
   "outputs": [],
   "source": [
    "root_node = find_best_split_point(dd, feature_indices)"
   ]
  },
  {
   "cell_type": "code",
   "execution_count": 85,
   "metadata": {},
   "outputs": [
    {
     "data": {
      "text/plain": [
       "{'column_name': 0,\n",
       " 'type': 0,\n",
       " 'dsplit_value': [['Blue'], ['Green', 'Brown']],\n",
       " 'gini': 0.1999999999999999,\n",
       " 'groups': (    Eye    Hair  Height class\n",
       "  0  Blue  Blonde    Tall    C+\n",
       "  1  Blue   Brown  Medium    C+\n",
       "  7  Blue   Brown  Medium    C+,\n",
       "       Eye    Hair  Height class\n",
       "  2  Brown   Brown  Medium    C-\n",
       "  3  Green   Brown  Medium    C-\n",
       "  4  Green   Brown    Tall    C+\n",
       "  5  Brown   Brown     Low    C-\n",
       "  6  Green  Blonde     Low    C-)}"
      ]
     },
     "execution_count": 85,
     "metadata": {},
     "output_type": "execute_result"
    }
   ],
   "source": [
    "root_node"
   ]
  },
  {
   "cell_type": "code",
   "execution_count": null,
   "metadata": {},
   "outputs": [],
   "source": []
  },
  {
   "cell_type": "code",
   "execution_count": null,
   "metadata": {},
   "outputs": [],
   "source": []
  },
  {
   "cell_type": "code",
   "execution_count": 86,
   "metadata": {},
   "outputs": [
    {
     "data": {
      "text/plain": [
       "{'column_name': 0,\n",
       " 'type': 0,\n",
       " 'dsplit_value': [['Blue'], ['Green', 'Brown']],\n",
       " 'gini': 0.1999999999999999,\n",
       " 'left': 'C+',\n",
       " 'right': {'column_name': 2,\n",
       "  'type': 0,\n",
       "  'dsplit_value': [['Tall'], ['Medium', 'Low']],\n",
       "  'gini': 0.0,\n",
       "  'left': 'C+',\n",
       "  'right': 'C-'}}"
      ]
     },
     "execution_count": 86,
     "metadata": {},
     "output_type": "execute_result"
    }
   ],
   "source": [
    "recursive_splitter(root_node, feature_indices)"
   ]
  },
  {
   "cell_type": "code",
   "execution_count": 87,
   "metadata": {},
   "outputs": [
    {
     "data": {
      "text/plain": [
       "'C+'"
      ]
     },
     "execution_count": 87,
     "metadata": {},
     "output_type": "execute_result"
    }
   ],
   "source": [
    "make_prediction_tree(['Green', 'Brown', 'Tall'], root_node)"
   ]
  },
  {
   "cell_type": "code",
   "execution_count": null,
   "metadata": {},
   "outputs": [],
   "source": []
  }
 ],
 "metadata": {
  "kernelspec": {
   "display_name": "Python 3",
   "language": "python",
   "name": "python3"
  },
  "language_info": {
   "codemirror_mode": {
    "name": "ipython",
    "version": 3
   },
   "file_extension": ".py",
   "mimetype": "text/x-python",
   "name": "python",
   "nbconvert_exporter": "python",
   "pygments_lexer": "ipython3",
   "version": "3.6.8"
  }
 },
 "nbformat": 4,
 "nbformat_minor": 4
}
